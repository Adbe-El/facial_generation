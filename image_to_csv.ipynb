{
 "cells": [
  {
   "cell_type": "code",
   "execution_count": 80,
   "metadata": {},
   "outputs": [],
   "source": [
    "import pandas as pd\n",
    "import numpy as np\n",
    "import os\n",
    "from os import listdir\n",
    "from os.path import isfile, join\n",
    "from shutil import copy\n",
    "from PIL import Image"
   ]
  },
  {
   "cell_type": "code",
   "execution_count": 81,
   "metadata": {},
   "outputs": [],
   "source": [
    "# Get the path to the folder\n",
    "mypath = \"images\"\n",
    "\n",
    "# Hardcode values for race and gender\n",
    "race = {\"0\":\"White\" , \"1\":\"Black\" , \"2\":\"Asian\", \"3\": \"Indian\", \"4\":\"Others\"}\n",
    "gender = {\"0\":\"male\", \"1\":\"female\"}"
   ]
  },
  {
   "cell_type": "code",
   "execution_count": 82,
   "metadata": {},
   "outputs": [],
   "source": [
    "# Make a list for labels\n",
    "img_label = []"
   ]
  },
  {
   "cell_type": "code",
   "execution_count": 83,
   "metadata": {},
   "outputs": [],
   "source": [
    "# Go through each filename in the directory and add it to a List\n",
    "# Ignore any file called .DS_Store\n",
    "\n",
    "img_names = [f for f in listdir(mypath) if f != \".DS_Store\"]\n",
    "\n",
    "# For each file in the list\n",
    "for img in img_names:\n",
    "    \n",
    "    # Split the name of the file by an underscore\n",
    "    img_split = img.split(\"_\")\n",
    "    img_label.append([img_split[0], gender[img_split[1]], race[img_split[2]]])"
   ]
  },
  {
   "cell_type": "code",
   "execution_count": 84,
   "metadata": {},
   "outputs": [],
   "source": [
    "a = [[1, 2, 3]]"
   ]
  },
  {
   "cell_type": "code",
   "execution_count": 86,
   "metadata": {},
   "outputs": [
    {
     "name": "stdout",
     "output_type": "stream",
     "text": [
      "23703\n"
     ]
    }
   ],
   "source": [
    "print(len(img_label))"
   ]
  },
  {
   "cell_type": "code",
   "execution_count": 87,
   "metadata": {},
   "outputs": [],
   "source": [
    "image_df = pd.DataFrame({\"filenames\":img_names, \"labels\":img_label})"
   ]
  },
  {
   "cell_type": "code",
   "execution_count": 7,
   "metadata": {},
   "outputs": [],
   "source": [
    "# # Nedu's function\n",
    "# def categorizeAgeGroup(x):\n",
    "#     x = int(x)\n",
    "#     if x in range(0, 11):\n",
    "#         return '0 - 10'\n",
    "#     elif x in range(11, 21):\n",
    "#         return '11 - 20'\n",
    "#     elif x in range(21, 31):\n",
    "#         return '21 - 30'\n",
    "#     elif x in range(31, 41):\n",
    "#         return '31 - 40'\n",
    "#     elif x in range(41, 51):\n",
    "#         return '41 - 50'\n",
    "#     elif x in range(51, 61):\n",
    "#         return '51 - 60'\n",
    "#     elif x in range(61, 71):\n",
    "#         return '61 - 70'\n",
    "#     elif x in range(71, 81):\n",
    "#         return '71 - 80'\n",
    "#     elif x in range(81, 91):\n",
    "#         return '81 - 90'\n",
    "#     elif x in range(91, 101):\n",
    "#         return '91 - 100'\n",
    "#     elif x in range(101, 111):\n",
    "#         return '101 - 110'\n",
    "#     else:\n",
    "#         return '111 - death'"
   ]
  },
  {
   "cell_type": "code",
   "execution_count": 88,
   "metadata": {},
   "outputs": [],
   "source": [
    "# Fill here\n",
    "# image_df[\"age\"] = image_df[\"age\"].apply(lambda x: categorizeAgeGroup(x))\n",
    "# image_df[\"img_array\"] = img_array_list"
   ]
  },
  {
   "cell_type": "code",
   "execution_count": 89,
   "metadata": {},
   "outputs": [],
   "source": [
    "# Save as csv file\n",
    "image_df.to_csv(\"face_image.csv\", index=False)"
   ]
  },
  {
   "cell_type": "code",
   "execution_count": 90,
   "metadata": {},
   "outputs": [
    {
     "data": {
      "text/html": [
       "<div>\n",
       "<style scoped>\n",
       "    .dataframe tbody tr th:only-of-type {\n",
       "        vertical-align: middle;\n",
       "    }\n",
       "\n",
       "    .dataframe tbody tr th {\n",
       "        vertical-align: top;\n",
       "    }\n",
       "\n",
       "    .dataframe thead th {\n",
       "        text-align: right;\n",
       "    }\n",
       "</style>\n",
       "<table border=\"1\" class=\"dataframe\">\n",
       "  <thead>\n",
       "    <tr style=\"text-align: right;\">\n",
       "      <th></th>\n",
       "      <th>filenames</th>\n",
       "      <th>labels</th>\n",
       "    </tr>\n",
       "  </thead>\n",
       "  <tbody>\n",
       "    <tr>\n",
       "      <th>0</th>\n",
       "      <td>100_0_0_20170112213500903.jpg.chip.jpg</td>\n",
       "      <td>[100, male, White]</td>\n",
       "    </tr>\n",
       "    <tr>\n",
       "      <th>1</th>\n",
       "      <td>100_0_0_20170112215240346.jpg.chip.jpg</td>\n",
       "      <td>[100, male, White]</td>\n",
       "    </tr>\n",
       "    <tr>\n",
       "      <th>2</th>\n",
       "      <td>100_1_0_20170110183726390.jpg.chip.jpg</td>\n",
       "      <td>[100, female, White]</td>\n",
       "    </tr>\n",
       "    <tr>\n",
       "      <th>3</th>\n",
       "      <td>100_1_0_20170112213001988.jpg.chip.jpg</td>\n",
       "      <td>[100, female, White]</td>\n",
       "    </tr>\n",
       "    <tr>\n",
       "      <th>4</th>\n",
       "      <td>100_1_0_20170112213303693.jpg.chip.jpg</td>\n",
       "      <td>[100, female, White]</td>\n",
       "    </tr>\n",
       "    <tr>\n",
       "      <th>5</th>\n",
       "      <td>100_1_0_20170112215032192.jpg.chip.jpg</td>\n",
       "      <td>[100, female, White]</td>\n",
       "    </tr>\n",
       "    <tr>\n",
       "      <th>6</th>\n",
       "      <td>100_1_0_20170117195420803.jpg.chip.jpg</td>\n",
       "      <td>[100, female, White]</td>\n",
       "    </tr>\n",
       "    <tr>\n",
       "      <th>7</th>\n",
       "      <td>100_1_0_20170119212053665.jpg.chip.jpg</td>\n",
       "      <td>[100, female, White]</td>\n",
       "    </tr>\n",
       "    <tr>\n",
       "      <th>8</th>\n",
       "      <td>100_1_2_20170105174847679.jpg.chip.jpg</td>\n",
       "      <td>[100, female, Asian]</td>\n",
       "    </tr>\n",
       "    <tr>\n",
       "      <th>9</th>\n",
       "      <td>100_1_2_20170112213615815.jpg.chip.jpg</td>\n",
       "      <td>[100, female, Asian]</td>\n",
       "    </tr>\n",
       "  </tbody>\n",
       "</table>\n",
       "</div>"
      ],
      "text/plain": [
       "                                filenames                labels\n",
       "0  100_0_0_20170112213500903.jpg.chip.jpg    [100, male, White]\n",
       "1  100_0_0_20170112215240346.jpg.chip.jpg    [100, male, White]\n",
       "2  100_1_0_20170110183726390.jpg.chip.jpg  [100, female, White]\n",
       "3  100_1_0_20170112213001988.jpg.chip.jpg  [100, female, White]\n",
       "4  100_1_0_20170112213303693.jpg.chip.jpg  [100, female, White]\n",
       "5  100_1_0_20170112215032192.jpg.chip.jpg  [100, female, White]\n",
       "6  100_1_0_20170117195420803.jpg.chip.jpg  [100, female, White]\n",
       "7  100_1_0_20170119212053665.jpg.chip.jpg  [100, female, White]\n",
       "8  100_1_2_20170105174847679.jpg.chip.jpg  [100, female, Asian]\n",
       "9  100_1_2_20170112213615815.jpg.chip.jpg  [100, female, Asian]"
      ]
     },
     "execution_count": 90,
     "metadata": {},
     "output_type": "execute_result"
    }
   ],
   "source": [
    "image_df.head(10)"
   ]
  },
  {
   "cell_type": "code",
   "execution_count": null,
   "metadata": {},
   "outputs": [],
   "source": []
  }
 ],
 "metadata": {
  "kernelspec": {
   "display_name": "Python 3",
   "language": "python",
   "name": "python3"
  },
  "language_info": {
   "codemirror_mode": {
    "name": "ipython",
    "version": 3
   },
   "file_extension": ".py",
   "mimetype": "text/x-python",
   "name": "python",
   "nbconvert_exporter": "python",
   "pygments_lexer": "ipython3",
   "version": "3.5.5"
  }
 },
 "nbformat": 4,
 "nbformat_minor": 2
}
