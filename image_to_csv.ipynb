{
 "cells": [
  {
   "cell_type": "code",
   "execution_count": 1,
   "metadata": {},
   "outputs": [],
   "source": [
    "import pandas as pd\n",
    "import numpy as np\n",
    "import os\n",
    "from os import listdir\n",
    "from os.path import isfile, join\n",
    "from shutil import copy"
   ]
  },
  {
   "cell_type": "code",
   "execution_count": 2,
   "metadata": {},
   "outputs": [],
   "source": [
    "# Fill path\n",
    "mypath = \"images\"\n",
    "\n",
    "# Hardcode values for race and gender\n",
    "race = {\"0\":\"White\" , \"1\":\"Black\" , \"2\":\"Asian\", \"3\": \"Indian\", \"4\":\"Others\"}\n",
    "gender = {\"0\":\"male\", \"1\":\"female\"}"
   ]
  },
  {
   "cell_type": "code",
   "execution_count": 3,
   "metadata": {},
   "outputs": [],
   "source": [
    "# Make a list of races, gender list and age\n",
    "img_race_list = []\n",
    "img_gender_list = []\n",
    "img_age_list = []\n"
   ]
  },
  {
   "cell_type": "code",
   "execution_count": 4,
   "metadata": {},
   "outputs": [
    {
     "data": {
      "text/plain": [
       "23703"
      ]
     },
     "execution_count": 4,
     "metadata": {},
     "output_type": "execute_result"
    }
   ],
   "source": [
    "image_names = [f for f in listdir(mypath) if f != \".DS_Store\"]\n",
    "\n",
    "counter = 0\n",
    "\n",
    "for img in image_names:\n",
    "    img_split = img.split(\"_\")\n",
    "    img_age_list.append(img_split[0])\n",
    "    img_gender_list.append(gender[img_split[1]])\n",
    "    img_race_list.append(race[img_split[2]])\n",
    "    \n",
    "len(img_age_list)\n",
    "\n"
   ]
  },
  {
   "cell_type": "code",
   "execution_count": 5,
   "metadata": {},
   "outputs": [],
   "source": [
    "image_df = pd.DataFrame({\"image_name\":image_names, \"age\":img_age_list, \"race\":img_race_list, \"image_gender\":img_gender_list})"
   ]
  },
  {
   "cell_type": "code",
   "execution_count": 6,
   "metadata": {},
   "outputs": [],
   "source": [
    "# Nedu's function\n",
    "def categorizeAgeGroup(x):\n",
    "    x = int(x)\n",
    "    if x in range(0, 11):\n",
    "        return '0 - 10'\n",
    "    elif x in range(11, 21):\n",
    "        return '11 - 20'\n",
    "    elif x in range(21, 31):\n",
    "        return '21 - 30'\n",
    "    elif x in range(31, 41):\n",
    "        return '31 - 40'\n",
    "    elif x in range(41, 51):\n",
    "        return '41 - 50'\n",
    "    elif x in range(51, 61):\n",
    "        return '51 - 60'\n",
    "    elif x in range(61, 71):\n",
    "        return '61 - 70'\n",
    "    elif x in range(71, 81):\n",
    "        return '71 - 80'\n",
    "    elif x in range(81, 91):\n",
    "        return '81 - 90'\n",
    "    elif x in range(91, 101):\n",
    "        return '91 - 100'\n",
    "    elif x in range(101, 111):\n",
    "        return '101 - 110'\n",
    "    else:\n",
    "        return '111 - death'"
   ]
  },
  {
   "cell_type": "code",
   "execution_count": 7,
   "metadata": {},
   "outputs": [],
   "source": [
    "# Fill here\n",
    "image_df[\"age\"] = image_df[\"age\"].apply(lambda x: categorizeAgeGroup(x))\n"
   ]
  },
  {
   "cell_type": "code",
   "execution_count": 8,
   "metadata": {},
   "outputs": [
    {
     "data": {
      "text/plain": [
       "100"
      ]
     },
     "execution_count": 8,
     "metadata": {},
     "output_type": "execute_result"
    }
   ],
   "source": [
    "image_df.head()\n",
    "\n",
    "int(\"100\")"
   ]
  },
  {
   "cell_type": "code",
   "execution_count": 10,
   "metadata": {},
   "outputs": [],
   "source": [
    "# Save as csv file\n",
    "image_df.to_csv(\"face_image.csv\", index=False)"
   ]
  }
 ],
 "metadata": {
  "kernelspec": {
   "display_name": "Python 3",
   "language": "python",
   "name": "python3"
  },
  "language_info": {
   "codemirror_mode": {
    "name": "ipython",
    "version": 3
   },
   "file_extension": ".py",
   "mimetype": "text/x-python",
   "name": "python",
   "nbconvert_exporter": "python",
   "pygments_lexer": "ipython3",
   "version": "3.7.1"
  }
 },
 "nbformat": 4,
 "nbformat_minor": 2
}
