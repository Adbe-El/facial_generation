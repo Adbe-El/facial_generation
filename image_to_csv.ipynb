{
 "cells": [
  {
   "cell_type": "code",
   "execution_count": 28,
   "metadata": {},
   "outputs": [],
   "source": [
    "import pandas as pd\n",
    "import numpy as np\n",
    "from os import listdir\n",
    "from os.path import isfile, join\n",
    "from shutil import copy"
   ]
  },
  {
   "cell_type": "code",
   "execution_count": 37,
   "metadata": {},
   "outputs": [],
   "source": [
    "# Fill path\n",
    "mypath = \"facial_generation/images\"\n",
    "\n",
    "# Hardcode values for race and gender\n",
    "race = {\"0\":\"White\" , \"1\":\"Black\" , \"2\":\"Asian\", \"3\": \"Indian\", \"4\":\"Others\"}\n",
    "gender = {\"0\":\"male\", \"1\":\"female\"}"
   ]
  },
  {
   "cell_type": "code",
   "execution_count": 50,
   "metadata": {},
   "outputs": [],
   "source": [
    "# Make a list of races, gender list and age\n",
    "img_race_list = []\n",
    "img_gender_list = []\n",
    "img_age_list = []"
   ]
  },
  {
   "cell_type": "code",
   "execution_count": 51,
   "metadata": {},
   "outputs": [],
   "source": [
    "# Get images in path\n",
    "image_names = [f for f in listdir(mypath)]"
   ]
  },
  {
   "cell_type": "code",
   "execution_count": 54,
   "metadata": {},
   "outputs": [],
   "source": [
    "counter = 0\n",
    "for img in image_names:\n",
    "    img_split = img.split(\"_\")\n",
    "    img_age_list.append(img_split[0])\n",
    "    img_gender_list.append(gender[img_split[1]])\n",
    "    img_race_list.append(race[img_split[2]])"
   ]
  },
  {
   "cell_type": "code",
   "execution_count": 55,
   "metadata": {},
   "outputs": [
    {
     "data": {
      "text/plain": [
       "23703"
      ]
     },
     "execution_count": 55,
     "metadata": {},
     "output_type": "execute_result"
    }
   ],
   "source": [
    "len(img_age_list)"
   ]
  },
  {
   "cell_type": "code",
   "execution_count": 56,
   "metadata": {},
   "outputs": [],
   "source": [
    "image_df = pd.DataFrame({\"image_name\":image_names, \"age\":img_age_list, \"race\":img_race_list, \"image_gender\":img_gender_list})"
   ]
  },
  {
   "cell_type": "code",
   "execution_count": 57,
   "metadata": {},
   "outputs": [
    {
     "data": {
      "text/html": [
       "<div>\n",
       "<style scoped>\n",
       "    .dataframe tbody tr th:only-of-type {\n",
       "        vertical-align: middle;\n",
       "    }\n",
       "\n",
       "    .dataframe tbody tr th {\n",
       "        vertical-align: top;\n",
       "    }\n",
       "\n",
       "    .dataframe thead th {\n",
       "        text-align: right;\n",
       "    }\n",
       "</style>\n",
       "<table border=\"1\" class=\"dataframe\">\n",
       "  <thead>\n",
       "    <tr style=\"text-align: right;\">\n",
       "      <th></th>\n",
       "      <th>age</th>\n",
       "      <th>image_gender</th>\n",
       "      <th>image_name</th>\n",
       "      <th>race</th>\n",
       "    </tr>\n",
       "  </thead>\n",
       "  <tbody>\n",
       "    <tr>\n",
       "      <th>0</th>\n",
       "      <td>100</td>\n",
       "      <td>male</td>\n",
       "      <td>100_0_0_20170112213500903.jpg.chip.jpg</td>\n",
       "      <td>White</td>\n",
       "    </tr>\n",
       "    <tr>\n",
       "      <th>1</th>\n",
       "      <td>100</td>\n",
       "      <td>male</td>\n",
       "      <td>100_0_0_20170112215240346.jpg.chip.jpg</td>\n",
       "      <td>White</td>\n",
       "    </tr>\n",
       "    <tr>\n",
       "      <th>2</th>\n",
       "      <td>100</td>\n",
       "      <td>female</td>\n",
       "      <td>100_1_0_20170110183726390.jpg.chip.jpg</td>\n",
       "      <td>White</td>\n",
       "    </tr>\n",
       "    <tr>\n",
       "      <th>3</th>\n",
       "      <td>100</td>\n",
       "      <td>female</td>\n",
       "      <td>100_1_0_20170112213001988.jpg.chip.jpg</td>\n",
       "      <td>White</td>\n",
       "    </tr>\n",
       "    <tr>\n",
       "      <th>4</th>\n",
       "      <td>100</td>\n",
       "      <td>female</td>\n",
       "      <td>100_1_0_20170112213303693.jpg.chip.jpg</td>\n",
       "      <td>White</td>\n",
       "    </tr>\n",
       "  </tbody>\n",
       "</table>\n",
       "</div>"
      ],
      "text/plain": [
       "   age image_gender                              image_name   race\n",
       "0  100         male  100_0_0_20170112213500903.jpg.chip.jpg  White\n",
       "1  100         male  100_0_0_20170112215240346.jpg.chip.jpg  White\n",
       "2  100       female  100_1_0_20170110183726390.jpg.chip.jpg  White\n",
       "3  100       female  100_1_0_20170112213001988.jpg.chip.jpg  White\n",
       "4  100       female  100_1_0_20170112213303693.jpg.chip.jpg  White"
      ]
     },
     "execution_count": 57,
     "metadata": {},
     "output_type": "execute_result"
    }
   ],
   "source": [
    "image_df.head()"
   ]
  },
  {
   "cell_type": "code",
   "execution_count": 58,
   "metadata": {},
   "outputs": [
    {
     "data": {
      "text/plain": [
       "100"
      ]
     },
     "execution_count": 58,
     "metadata": {},
     "output_type": "execute_result"
    }
   ],
   "source": [
    "int(\"100\")"
   ]
  },
  {
   "cell_type": "code",
   "execution_count": 60,
   "metadata": {},
   "outputs": [],
   "source": [
    "def categorizeAgeGroup(x):\n",
    "    x = int(x)\n",
    "    if x in range(0, 11):\n",
    "        return '0 - 10'\n",
    "    elif x in range(11, 21):\n",
    "        return '11 - 20'\n",
    "    elif x in range(21, 31):\n",
    "        return '21 - 30'\n",
    "    elif x in range(31, 41):\n",
    "        return '31 - 40'\n",
    "    elif x in range(41, 51):\n",
    "        return '41 - 50'\n",
    "    elif x in range(51, 61):\n",
    "        return '51 - 60'\n",
    "    elif x in range(61, 71):\n",
    "        return '61 - 70'\n",
    "    elif x in range(71, 81):\n",
    "        return '71 - 80'\n",
    "    elif x in range(81, 91):\n",
    "        return '81 - 90'\n",
    "    elif x in range(91, 101):\n",
    "        return '91 - 100'\n",
    "    elif x in range(101, 111):\n",
    "        return '101 - 110'\n",
    "    else:\n",
    "        return '111 - death'"
   ]
  },
  {
   "cell_type": "code",
   "execution_count": 62,
   "metadata": {},
   "outputs": [],
   "source": [
    "# Fill here\n",
    "# image_df[\"age\"] = image_df[\"age\"].apply(lambda x: categorizeAgeGroup(x))\n"
   ]
  },
  {
   "cell_type": "code",
   "execution_count": 63,
   "metadata": {},
   "outputs": [
    {
     "data": {
      "text/html": [
       "<div>\n",
       "<style scoped>\n",
       "    .dataframe tbody tr th:only-of-type {\n",
       "        vertical-align: middle;\n",
       "    }\n",
       "\n",
       "    .dataframe tbody tr th {\n",
       "        vertical-align: top;\n",
       "    }\n",
       "\n",
       "    .dataframe thead th {\n",
       "        text-align: right;\n",
       "    }\n",
       "</style>\n",
       "<table border=\"1\" class=\"dataframe\">\n",
       "  <thead>\n",
       "    <tr style=\"text-align: right;\">\n",
       "      <th></th>\n",
       "      <th>age</th>\n",
       "      <th>image_gender</th>\n",
       "      <th>image_name</th>\n",
       "      <th>race</th>\n",
       "    </tr>\n",
       "  </thead>\n",
       "  <tbody>\n",
       "    <tr>\n",
       "      <th>0</th>\n",
       "      <td>91 - 100</td>\n",
       "      <td>male</td>\n",
       "      <td>100_0_0_20170112213500903.jpg.chip.jpg</td>\n",
       "      <td>White</td>\n",
       "    </tr>\n",
       "    <tr>\n",
       "      <th>1</th>\n",
       "      <td>91 - 100</td>\n",
       "      <td>male</td>\n",
       "      <td>100_0_0_20170112215240346.jpg.chip.jpg</td>\n",
       "      <td>White</td>\n",
       "    </tr>\n",
       "    <tr>\n",
       "      <th>2</th>\n",
       "      <td>91 - 100</td>\n",
       "      <td>female</td>\n",
       "      <td>100_1_0_20170110183726390.jpg.chip.jpg</td>\n",
       "      <td>White</td>\n",
       "    </tr>\n",
       "    <tr>\n",
       "      <th>3</th>\n",
       "      <td>91 - 100</td>\n",
       "      <td>female</td>\n",
       "      <td>100_1_0_20170112213001988.jpg.chip.jpg</td>\n",
       "      <td>White</td>\n",
       "    </tr>\n",
       "    <tr>\n",
       "      <th>4</th>\n",
       "      <td>91 - 100</td>\n",
       "      <td>female</td>\n",
       "      <td>100_1_0_20170112213303693.jpg.chip.jpg</td>\n",
       "      <td>White</td>\n",
       "    </tr>\n",
       "  </tbody>\n",
       "</table>\n",
       "</div>"
      ],
      "text/plain": [
       "        age image_gender                              image_name   race\n",
       "0  91 - 100         male  100_0_0_20170112213500903.jpg.chip.jpg  White\n",
       "1  91 - 100         male  100_0_0_20170112215240346.jpg.chip.jpg  White\n",
       "2  91 - 100       female  100_1_0_20170110183726390.jpg.chip.jpg  White\n",
       "3  91 - 100       female  100_1_0_20170112213001988.jpg.chip.jpg  White\n",
       "4  91 - 100       female  100_1_0_20170112213303693.jpg.chip.jpg  White"
      ]
     },
     "execution_count": 63,
     "metadata": {},
     "output_type": "execute_result"
    }
   ],
   "source": [
    "image_df.head()"
   ]
  },
  {
   "cell_type": "code",
   "execution_count": null,
   "metadata": {},
   "outputs": [],
   "source": []
  }
 ],
 "metadata": {
  "kernelspec": {
   "display_name": "Python 3",
   "language": "python",
   "name": "python3"
  },
  "language_info": {
   "codemirror_mode": {
    "name": "ipython",
    "version": 3
   },
   "file_extension": ".py",
   "mimetype": "text/x-python",
   "name": "python",
   "nbconvert_exporter": "python",
   "pygments_lexer": "ipython3",
   "version": "3.5.5"
  }
 },
 "nbformat": 4,
 "nbformat_minor": 2
}
