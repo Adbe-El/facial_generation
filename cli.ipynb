{
 "cells": [
  {
   "cell_type": "code",
   "execution_count": 1,
   "metadata": {},
   "outputs": [
    {
     "name": "stderr",
     "output_type": "stream",
     "text": [
      "Usage: ipykernel_launcher.py [OPTIONS] AGE REGION SEX\n",
      "Try \"ipykernel_launcher.py --help\" for help.\n",
      "\n",
      "Error: no such option: -f\n"
     ]
    },
    {
     "ename": "SystemExit",
     "evalue": "2",
     "output_type": "error",
     "traceback": [
      "An exception has occurred, use %tb to see the full traceback.\n",
      "\u001b[0;31mSystemExit\u001b[0m\u001b[0;31m:\u001b[0m 2\n"
     ]
    },
    {
     "name": "stderr",
     "output_type": "stream",
     "text": [
      "/home/sanusi/.local/lib/python3.6/site-packages/IPython/core/interactiveshell.py:3304: UserWarning: To exit: use 'exit', 'quit', or Ctrl-D.\n",
      "  warn(\"To exit: use 'exit', 'quit', or Ctrl-D.\", stacklevel=1)\n"
     ]
    }
   ],
   "source": [
    "import click\n",
    "#import genblack\n",
    "import genwhite\n",
    "import os\n",
    "\n",
    "# @click.command()\n",
    "# @click.argument('age')\n",
    "# @click.argument('region')\n",
    "# @click.argument('sex')\n",
    "def main(age,region,sex):\n",
    "    data_dir='/images'\n",
    "    # Image configuration\n",
    "    IMAGE_HEIGHT = 28\n",
    "    IMAGE_WIDTH = 28\n",
    "    \n",
    "    batch_size = 16\n",
    "    z_dim = 100\n",
    "    learning_rate = 0.0002\n",
    "    beta1 = 0.5\n",
    "    epochs = 2\n",
    "    if region=='black':\n",
    "        pass\n",
    "        #genblack.train(epochs, batch_size, z_dim, learning_rate, beta1, get_batches, shape)\n",
    "    elif region=='white':\n",
    "        data_files = genwhite.glob(os.path.join(data_dir, 'white/*.jpg'))\n",
    "        shape = len(data_files), IMAGE_WIDTH, IMAGE_HEIGHT, 3\n",
    "        genwhite.train(epochs, batch_size, z_dim, learning_rate, beta1,shape)\n",
    "    else:\n",
    "        click.echo(\"Enter either black or white as region\")\n",
    "\n",
    "if __name__=='__main__':\n",
    "    main()\n",
    "    \n"
   ]
  },
  {
   "cell_type": "code",
   "execution_count": null,
   "metadata": {},
   "outputs": [],
   "source": []
  }
 ],
 "metadata": {
  "kernelspec": {
   "display_name": "Python 3",
   "language": "python",
   "name": "python3"
  },
  "language_info": {
   "codemirror_mode": {
    "name": "ipython",
    "version": 3
   },
   "file_extension": ".py",
   "mimetype": "text/x-python",
   "name": "python",
   "nbconvert_exporter": "python",
   "pygments_lexer": "ipython3",
   "version": "3.6.7"
  }
 },
 "nbformat": 4,
 "nbformat_minor": 2
}
